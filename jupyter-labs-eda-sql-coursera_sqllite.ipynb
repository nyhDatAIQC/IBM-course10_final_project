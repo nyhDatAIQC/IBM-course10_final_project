{
 "cells": [
  {
   "cell_type": "markdown",
   "metadata": {},
   "source": [
    "<p style=\"text-align:center\">\n",
    "    <a href=\"https://skills.network/?utm_medium=Exinfluencer&utm_source=Exinfluencer&utm_content=000026UJ&utm_term=10006555&utm_id=NA-SkillsNetwork-Channel-SkillsNetworkCoursesIBMDS0321ENSkillsNetwork865-2022-01-01\" target=\"_blank\">\n",
    "    <img src=\"https://cf-courses-data.s3.us.cloud-object-storage.appdomain.cloud/assets/logos/SN_web_lightmode.png\" width=\"200\" alt=\"Skills Network Logo\"  />\n",
    "    </a>\n",
    "</p>\n",
    "\n",
    "<h1 align=center><font size = 5>Assignment: SQL Notebook for Peer Assignment</font></h1>\n",
    "\n",
    "Estimated time needed: **60** minutes.\n",
    "\n",
    "## Introduction\n",
    "Using this Python notebook you will:\n",
    "\n",
    "1.  Understand the Spacex DataSet\n",
    "2.  Load the dataset  into the corresponding table in a Db2 database\n",
    "3.  Execute SQL queries to answer assignment questions \n"
   ]
  },
  {
   "cell_type": "markdown",
   "metadata": {},
   "source": [
    "## Overview of the DataSet\n",
    "\n",
    "SpaceX has gained worldwide attention for a series of historic milestones. \n",
    "\n",
    "It is the only private company ever to return a spacecraft from low-earth orbit, which it first accomplished in December 2010.\n",
    "SpaceX advertises Falcon 9 rocket launches on its website with a cost of 62 million dollars wheras other providers cost upward of 165 million dollars each, much of the savings is because Space X can reuse the first stage. \n",
    "\n",
    "\n",
    "Therefore if we can determine if the first stage will land, we can determine the cost of a launch. \n",
    "\n",
    "This information can be used if an alternate company wants to bid against SpaceX for a rocket launch.\n",
    "\n",
    "This dataset includes a record for each payload carried during a SpaceX mission into outer space.\n"
   ]
  },
  {
   "cell_type": "markdown",
   "metadata": {},
   "source": [
    "### Download the datasets\n",
    "\n",
    "This assignment requires you to load the spacex dataset.\n",
    "\n",
    "In many cases the dataset to be analyzed is available as a .CSV (comma separated values) file, perhaps on the internet. Click on the link below to download and save the dataset (.CSV file):\n",
    "\n",
    " <a href=\"https://cf-courses-data.s3.us.cloud-object-storage.appdomain.cloud/IBM-DS0321EN-SkillsNetwork/labs/module_2/data/Spacex.csv\" target=\"_blank\">Spacex DataSet</a>\n",
    "\n"
   ]
  },
  {
   "cell_type": "code",
   "execution_count": 1,
   "metadata": {
    "tags": []
   },
   "outputs": [
    {
     "name": "stdout",
     "output_type": "stream",
     "text": [
      "Collecting sqlalchemy==1.3.9\n",
      "  Downloading SQLAlchemy-1.3.9.tar.gz (6.0 MB)\n",
      "\u001b[2K     \u001b[90m━━━━━━━━━━━━━━━━━━━━━━━━━━━━━━━━━━━━━━━━\u001b[0m \u001b[32m6.0/6.0 MB\u001b[0m \u001b[31m50.3 MB/s\u001b[0m eta \u001b[36m0:00:00\u001b[0m00:01\u001b[0m00:01\u001b[0mm\n",
      "\u001b[?25h  Preparing metadata (setup.py) ... \u001b[?25ldone\n",
      "\u001b[?25hBuilding wheels for collected packages: sqlalchemy\n",
      "  Building wheel for sqlalchemy (setup.py) ... \u001b[?25ldone\n",
      "\u001b[?25h  Created wheel for sqlalchemy: filename=SQLAlchemy-1.3.9-cp37-cp37m-linux_x86_64.whl size=1159121 sha256=d8dc5d3a8bfd15769a6cb81953a258f8b4f0cf12eb94eb39eac63b6737a476cf\n",
      "  Stored in directory: /home/jupyterlab/.cache/pip/wheels/03/71/13/010faf12246f72dc76b4150e6e599d13a85b4435e06fb9e51f\n",
      "Successfully built sqlalchemy\n",
      "Installing collected packages: sqlalchemy\n",
      "  Attempting uninstall: sqlalchemy\n",
      "    Found existing installation: SQLAlchemy 1.3.24\n",
      "    Uninstalling SQLAlchemy-1.3.24:\n",
      "      Successfully uninstalled SQLAlchemy-1.3.24\n",
      "Successfully installed sqlalchemy-1.3.9\n"
     ]
    }
   ],
   "source": [
    "!pip install sqlalchemy==1.3.9\n"
   ]
  },
  {
   "cell_type": "markdown",
   "metadata": {},
   "source": [
    "### Connect to the database\n",
    "\n",
    "Let us first load the SQL extension and establish a connection with the database\n"
   ]
  },
  {
   "cell_type": "code",
   "execution_count": 2,
   "metadata": {
    "tags": []
   },
   "outputs": [],
   "source": [
    "%load_ext sql"
   ]
  },
  {
   "cell_type": "code",
   "execution_count": 3,
   "metadata": {
    "tags": []
   },
   "outputs": [],
   "source": [
    "import csv, sqlite3\n",
    "\n",
    "con = sqlite3.connect(\"my_data1.db\")\n",
    "cur = con.cursor()"
   ]
  },
  {
   "cell_type": "code",
   "execution_count": 4,
   "metadata": {
    "tags": []
   },
   "outputs": [],
   "source": [
    "!pip install -q pandas==1.1.5"
   ]
  },
  {
   "cell_type": "code",
   "execution_count": 5,
   "metadata": {
    "tags": []
   },
   "outputs": [
    {
     "data": {
      "text/plain": [
       "'Connected: @my_data1.db'"
      ]
     },
     "execution_count": 5,
     "metadata": {},
     "output_type": "execute_result"
    }
   ],
   "source": [
    "%sql sqlite:///my_data1.db"
   ]
  },
  {
   "cell_type": "code",
   "execution_count": 6,
   "metadata": {
    "tags": []
   },
   "outputs": [
    {
     "name": "stderr",
     "output_type": "stream",
     "text": [
      "/home/jupyterlab/conda/envs/python/lib/python3.7/site-packages/pandas/core/generic.py:2882: UserWarning: The spaces in these column names will not be changed. In pandas versions < 0.14, spaces were converted to underscores.\n",
      "  both result in 0.1234 being formatted as 0.12.\n"
     ]
    }
   ],
   "source": [
    "import pandas as pd\n",
    "df = pd.read_csv(\"https://cf-courses-data.s3.us.cloud-object-storage.appdomain.cloud/IBM-DS0321EN-SkillsNetwork/labs/module_2/data/Spacex.csv\")\n",
    "df.to_sql(\"SPACEXTBL\", con, if_exists='replace', index=False,method=\"multi\")"
   ]
  },
  {
   "cell_type": "code",
   "execution_count": 7,
   "metadata": {
    "tags": []
   },
   "outputs": [
    {
     "name": "stdout",
     "output_type": "stream",
     "text": [
      " * sqlite:///my_data1.db\n",
      "Done.\n"
     ]
    },
    {
     "data": {
      "text/html": [
       "<table>\n",
       "    <thead>\n",
       "        <tr>\n",
       "            <th>name</th>\n",
       "            <th>type</th>\n",
       "            <th>length(type)</th>\n",
       "        </tr>\n",
       "    </thead>\n",
       "    <tbody>\n",
       "        <tr>\n",
       "            <td>Date</td>\n",
       "            <td>TEXT</td>\n",
       "            <td>4</td>\n",
       "        </tr>\n",
       "        <tr>\n",
       "            <td>Time (UTC)</td>\n",
       "            <td>TEXT</td>\n",
       "            <td>4</td>\n",
       "        </tr>\n",
       "        <tr>\n",
       "            <td>Booster_Version</td>\n",
       "            <td>TEXT</td>\n",
       "            <td>4</td>\n",
       "        </tr>\n",
       "        <tr>\n",
       "            <td>Launch_Site</td>\n",
       "            <td>TEXT</td>\n",
       "            <td>4</td>\n",
       "        </tr>\n",
       "        <tr>\n",
       "            <td>Payload</td>\n",
       "            <td>TEXT</td>\n",
       "            <td>4</td>\n",
       "        </tr>\n",
       "        <tr>\n",
       "            <td>PAYLOAD_MASS__KG_</td>\n",
       "            <td>REAL</td>\n",
       "            <td>4</td>\n",
       "        </tr>\n",
       "        <tr>\n",
       "            <td>Orbit</td>\n",
       "            <td>TEXT</td>\n",
       "            <td>4</td>\n",
       "        </tr>\n",
       "        <tr>\n",
       "            <td>Customer</td>\n",
       "            <td>TEXT</td>\n",
       "            <td>4</td>\n",
       "        </tr>\n",
       "        <tr>\n",
       "            <td>Mission_Outcome</td>\n",
       "            <td>TEXT</td>\n",
       "            <td>4</td>\n",
       "        </tr>\n",
       "        <tr>\n",
       "            <td>Landing_Outcome</td>\n",
       "            <td>TEXT</td>\n",
       "            <td>4</td>\n",
       "        </tr>\n",
       "    </tbody>\n",
       "</table>"
      ],
      "text/plain": [
       "[('Date', 'TEXT', 4),\n",
       " ('Time (UTC)', 'TEXT', 4),\n",
       " ('Booster_Version', 'TEXT', 4),\n",
       " ('Launch_Site', 'TEXT', 4),\n",
       " ('Payload', 'TEXT', 4),\n",
       " ('PAYLOAD_MASS__KG_', 'REAL', 4),\n",
       " ('Orbit', 'TEXT', 4),\n",
       " ('Customer', 'TEXT', 4),\n",
       " ('Mission_Outcome', 'TEXT', 4),\n",
       " ('Landing_Outcome', 'TEXT', 4)]"
      ]
     },
     "execution_count": 7,
     "metadata": {},
     "output_type": "execute_result"
    }
   ],
   "source": [
    "%sql SELECT name,type,length(type) FROM PRAGMA_TABLE_INFO('SPACEXTBL');"
   ]
  },
  {
   "cell_type": "markdown",
   "metadata": {},
   "source": [
    "## Tasks\n",
    "\n",
    "Now write and execute SQL queries to solve the assignment tasks.\n",
    "\n",
    "**Note: If the column names are in mixed case enclose it in double quotes\n",
    "   For Example \"Landing_Outcome\"**\n",
    "\n",
    "### Task 1\n",
    "\n",
    "\n",
    "\n",
    "\n",
    "##### Display the names of the unique launch sites  in the space mission\n"
   ]
  },
  {
   "cell_type": "code",
   "execution_count": 10,
   "metadata": {
    "tags": []
   },
   "outputs": [
    {
     "name": "stdout",
     "output_type": "stream",
     "text": [
      " * sqlite:///my_data1.db\n",
      "Done.\n"
     ]
    },
    {
     "data": {
      "text/html": [
       "<table>\n",
       "    <thead>\n",
       "        <tr>\n",
       "            <th>Launch_Site</th>\n",
       "        </tr>\n",
       "    </thead>\n",
       "    <tbody>\n",
       "        <tr>\n",
       "            <td>CCAFS LC-40</td>\n",
       "        </tr>\n",
       "        <tr>\n",
       "            <td>VAFB SLC-4E</td>\n",
       "        </tr>\n",
       "        <tr>\n",
       "            <td>KSC LC-39A</td>\n",
       "        </tr>\n",
       "        <tr>\n",
       "            <td>CCAFS SLC-40</td>\n",
       "        </tr>\n",
       "        <tr>\n",
       "            <td>None</td>\n",
       "        </tr>\n",
       "    </tbody>\n",
       "</table>"
      ],
      "text/plain": [
       "[('CCAFS LC-40',),\n",
       " ('VAFB SLC-4E',),\n",
       " ('KSC LC-39A',),\n",
       " ('CCAFS SLC-40',),\n",
       " (None,)]"
      ]
     },
     "execution_count": 10,
     "metadata": {},
     "output_type": "execute_result"
    }
   ],
   "source": [
    "%sql select distinct \"Launch_Site\" from SPACEXTBL "
   ]
  },
  {
   "cell_type": "markdown",
   "metadata": {},
   "source": [
    "\n",
    "### Task 2\n",
    "\n",
    "\n",
    "#####  Display 5 records where launch sites begin with the string 'CCA' \n"
   ]
  },
  {
   "cell_type": "code",
   "execution_count": 11,
   "metadata": {
    "tags": []
   },
   "outputs": [
    {
     "name": "stdout",
     "output_type": "stream",
     "text": [
      " * sqlite:///my_data1.db\n",
      "Done.\n"
     ]
    },
    {
     "data": {
      "text/html": [
       "<table>\n",
       "    <thead>\n",
       "        <tr>\n",
       "            <th>Date</th>\n",
       "            <th>Time (UTC)</th>\n",
       "            <th>Booster_Version</th>\n",
       "            <th>Launch_Site</th>\n",
       "            <th>Payload</th>\n",
       "            <th>PAYLOAD_MASS__KG_</th>\n",
       "            <th>Orbit</th>\n",
       "            <th>Customer</th>\n",
       "            <th>Mission_Outcome</th>\n",
       "            <th>Landing_Outcome</th>\n",
       "        </tr>\n",
       "    </thead>\n",
       "    <tbody>\n",
       "        <tr>\n",
       "            <td>06/04/2010</td>\n",
       "            <td>18:45:00</td>\n",
       "            <td>F9 v1.0  B0003</td>\n",
       "            <td>CCAFS LC-40</td>\n",
       "            <td>Dragon Spacecraft Qualification Unit</td>\n",
       "            <td>0.0</td>\n",
       "            <td>LEO</td>\n",
       "            <td>SpaceX</td>\n",
       "            <td>Success</td>\n",
       "            <td>Failure (parachute)</td>\n",
       "        </tr>\n",
       "        <tr>\n",
       "            <td>12/08/2010</td>\n",
       "            <td>15:43:00</td>\n",
       "            <td>F9 v1.0  B0004</td>\n",
       "            <td>CCAFS LC-40</td>\n",
       "            <td>Dragon demo flight C1, two CubeSats, barrel of Brouere cheese</td>\n",
       "            <td>0.0</td>\n",
       "            <td>LEO (ISS)</td>\n",
       "            <td>NASA (COTS) NRO</td>\n",
       "            <td>Success</td>\n",
       "            <td>Failure (parachute)</td>\n",
       "        </tr>\n",
       "        <tr>\n",
       "            <td>22/05/2012</td>\n",
       "            <td>7:44:00</td>\n",
       "            <td>F9 v1.0  B0005</td>\n",
       "            <td>CCAFS LC-40</td>\n",
       "            <td>Dragon demo flight C2</td>\n",
       "            <td>525.0</td>\n",
       "            <td>LEO (ISS)</td>\n",
       "            <td>NASA (COTS)</td>\n",
       "            <td>Success</td>\n",
       "            <td>No attempt</td>\n",
       "        </tr>\n",
       "        <tr>\n",
       "            <td>10/08/2012</td>\n",
       "            <td>0:35:00</td>\n",
       "            <td>F9 v1.0  B0006</td>\n",
       "            <td>CCAFS LC-40</td>\n",
       "            <td>SpaceX CRS-1</td>\n",
       "            <td>500.0</td>\n",
       "            <td>LEO (ISS)</td>\n",
       "            <td>NASA (CRS)</td>\n",
       "            <td>Success</td>\n",
       "            <td>No attempt</td>\n",
       "        </tr>\n",
       "        <tr>\n",
       "            <td>03/01/2013</td>\n",
       "            <td>15:10:00</td>\n",
       "            <td>F9 v1.0  B0007</td>\n",
       "            <td>CCAFS LC-40</td>\n",
       "            <td>SpaceX CRS-2</td>\n",
       "            <td>677.0</td>\n",
       "            <td>LEO (ISS)</td>\n",
       "            <td>NASA (CRS)</td>\n",
       "            <td>Success</td>\n",
       "            <td>No attempt</td>\n",
       "        </tr>\n",
       "    </tbody>\n",
       "</table>"
      ],
      "text/plain": [
       "[('06/04/2010', '18:45:00', 'F9 v1.0  B0003', 'CCAFS LC-40', 'Dragon Spacecraft Qualification Unit', 0.0, 'LEO', 'SpaceX', 'Success', 'Failure (parachute)'),\n",
       " ('12/08/2010', '15:43:00', 'F9 v1.0  B0004', 'CCAFS LC-40', 'Dragon demo flight C1, two CubeSats, barrel of Brouere cheese', 0.0, 'LEO (ISS)', 'NASA (COTS) NRO', 'Success', 'Failure (parachute)'),\n",
       " ('22/05/2012', '7:44:00', 'F9 v1.0  B0005', 'CCAFS LC-40', 'Dragon demo flight C2', 525.0, 'LEO (ISS)', 'NASA (COTS)', 'Success', 'No attempt'),\n",
       " ('10/08/2012', '0:35:00', 'F9 v1.0  B0006', 'CCAFS LC-40', 'SpaceX CRS-1', 500.0, 'LEO (ISS)', 'NASA (CRS)', 'Success', 'No attempt'),\n",
       " ('03/01/2013', '15:10:00', 'F9 v1.0  B0007', 'CCAFS LC-40', 'SpaceX CRS-2', 677.0, 'LEO (ISS)', 'NASA (CRS)', 'Success', 'No attempt')]"
      ]
     },
     "execution_count": 11,
     "metadata": {},
     "output_type": "execute_result"
    }
   ],
   "source": [
    "%sql select * from SPACEXTBL where \"Launch_Site\" like 'CCA%' limit 5"
   ]
  },
  {
   "cell_type": "markdown",
   "metadata": {},
   "source": [
    "### Task 3\n",
    "\n",
    "\n",
    "\n",
    "\n",
    "##### Display the total payload mass carried by boosters launched by NASA (CRS)\n"
   ]
  },
  {
   "cell_type": "code",
   "execution_count": 13,
   "metadata": {
    "tags": []
   },
   "outputs": [
    {
     "name": "stdout",
     "output_type": "stream",
     "text": [
      " * sqlite:///my_data1.db\n",
      "Done.\n"
     ]
    },
    {
     "data": {
      "text/html": [
       "<table>\n",
       "    <thead>\n",
       "        <tr>\n",
       "            <th>total_payload_mass</th>\n",
       "        </tr>\n",
       "    </thead>\n",
       "    <tbody>\n",
       "        <tr>\n",
       "            <td>45596.0</td>\n",
       "        </tr>\n",
       "    </tbody>\n",
       "</table>"
      ],
      "text/plain": [
       "[(45596.0,)]"
      ]
     },
     "execution_count": 13,
     "metadata": {},
     "output_type": "execute_result"
    }
   ],
   "source": [
    "%sql select SUM(PAYLOAD_MASS__KG_) as total_payload_mass from SPACEXTBL where \"Customer\" = 'NASA (CRS)'"
   ]
  },
  {
   "cell_type": "markdown",
   "metadata": {},
   "source": [
    "For checking purpose:"
   ]
  },
  {
   "cell_type": "code",
   "execution_count": 17,
   "metadata": {
    "tags": []
   },
   "outputs": [
    {
     "name": "stdout",
     "output_type": "stream",
     "text": [
      " * sqlite:///my_data1.db\n",
      "Done.\n"
     ]
    },
    {
     "data": {
      "text/html": [
       "<table>\n",
       "    <thead>\n",
       "        <tr>\n",
       "            <th>total_payload_mass</th>\n",
       "            <th>Customer</th>\n",
       "        </tr>\n",
       "    </thead>\n",
       "    <tbody>\n",
       "        <tr>\n",
       "            <td>None</td>\n",
       "            <td>None</td>\n",
       "        </tr>\n",
       "        <tr>\n",
       "            <td>7759.0</td>\n",
       "            <td>ABS Eutelsat</td>\n",
       "        </tr>\n",
       "        <tr>\n",
       "            <td>8963.0</td>\n",
       "            <td>AsiaSat</td>\n",
       "        </tr>\n",
       "        <tr>\n",
       "            <td>3669.0</td>\n",
       "            <td>Bulsatcom</td>\n",
       "        </tr>\n",
       "        <tr>\n",
       "            <td>3000.0</td>\n",
       "            <td>CONAE</td>\n",
       "        </tr>\n",
       "        <tr>\n",
       "            <td>3130.0</td>\n",
       "            <td>CONAE, PlanetIQ, SpaceX</td>\n",
       "        </tr>\n",
       "        <tr>\n",
       "            <td>4200.0</td>\n",
       "            <td>Canadian Space Agency (CSA)</td>\n",
       "        </tr>\n",
       "        <tr>\n",
       "            <td>5600.0</td>\n",
       "            <td>EchoStar</td>\n",
       "        </tr>\n",
       "        <tr>\n",
       "            <td>5300.0</td>\n",
       "            <td>Es hailSat</td>\n",
       "        </tr>\n",
       "        <tr>\n",
       "            <td>2150.0</td>\n",
       "            <td>Hisdesat exactEarth SpaceX</td>\n",
       "        </tr>\n",
       "        <tr>\n",
       "            <td>6092.0</td>\n",
       "            <td>Hispasat  NovaWurks</td>\n",
       "        </tr>\n",
       "        <tr>\n",
       "            <td>6070.0</td>\n",
       "            <td>Inmarsat</td>\n",
       "        </tr>\n",
       "        <tr>\n",
       "            <td>6761.0</td>\n",
       "            <td>Intelsat</td>\n",
       "        </tr>\n",
       "        <tr>\n",
       "            <td>67200.0</td>\n",
       "            <td>Iridium Communications</td>\n",
       "        </tr>\n",
       "        <tr>\n",
       "            <td>6460.0</td>\n",
       "            <td>Iridium Communications GFZ ‚ NASA</td>\n",
       "        </tr>\n",
       "        <tr>\n",
       "            <td>3500.0</td>\n",
       "            <td>KT Corporation</td>\n",
       "        </tr>\n",
       "        <tr>\n",
       "            <td>500.0</td>\n",
       "            <td>MDA</td>\n",
       "        </tr>\n",
       "        <tr>\n",
       "            <td>12055.0</td>\n",
       "            <td>NASA (CCD) </td>\n",
       "        </tr>\n",
       "        <tr>\n",
       "            <td>12530.0</td>\n",
       "            <td>NASA (CCDev)</td>\n",
       "        </tr>\n",
       "        <tr>\n",
       "            <td>12500.0</td>\n",
       "            <td>NASA (CCP)</td>\n",
       "        </tr>\n",
       "        <tr>\n",
       "            <td>525.0</td>\n",
       "            <td>NASA (COTS)</td>\n",
       "        </tr>\n",
       "        <tr>\n",
       "            <td>0.0</td>\n",
       "            <td>NASA (COTS) NRO</td>\n",
       "        </tr>\n",
       "        <tr>\n",
       "            <td>45596.0</td>\n",
       "            <td>NASA (CRS)</td>\n",
       "        </tr>\n",
       "        <tr>\n",
       "            <td>2617.0</td>\n",
       "            <td>NASA (CRS), Kacific 1</td>\n",
       "        </tr>\n",
       "        <tr>\n",
       "            <td>12050.0</td>\n",
       "            <td>NASA (CTS)</td>\n",
       "        </tr>\n",
       "        <tr>\n",
       "            <td>362.0</td>\n",
       "            <td>NASA (LSP)</td>\n",
       "        </tr>\n",
       "        <tr>\n",
       "            <td>553.0</td>\n",
       "            <td>NASA (LSP) NOAA CNES</td>\n",
       "        </tr>\n",
       "        <tr>\n",
       "            <td>1192.0</td>\n",
       "            <td>NASA / NOAA / ESA / EUMETSAT</td>\n",
       "        </tr>\n",
       "        <tr>\n",
       "            <td>5300.0</td>\n",
       "            <td>NRO</td>\n",
       "        </tr>\n",
       "        <tr>\n",
       "            <td>475.0</td>\n",
       "            <td>NSPO</td>\n",
       "        </tr>\n",
       "        <tr>\n",
       "            <td>5000.0</td>\n",
       "            <td>Northrop Grumman</td>\n",
       "        </tr>\n",
       "        <tr>\n",
       "            <td>3350.0</td>\n",
       "            <td>Orbcomm</td>\n",
       "        </tr>\n",
       "        <tr>\n",
       "            <td>4850.0</td>\n",
       "            <td>PSN, SpaceIL / IAI</td>\n",
       "        </tr>\n",
       "        <tr>\n",
       "            <td>5500.0</td>\n",
       "            <td>Republic of Korea Army, Spaceflight Industries (BlackSky)</td>\n",
       "        </tr>\n",
       "        <tr>\n",
       "            <td>23355.0</td>\n",
       "            <td>SES</td>\n",
       "        </tr>\n",
       "        <tr>\n",
       "            <td>5200.0</td>\n",
       "            <td>SES EchoStar</td>\n",
       "        </tr>\n",
       "        <tr>\n",
       "            <td>9296.0</td>\n",
       "            <td>SKY Perfect JSAT Group</td>\n",
       "        </tr>\n",
       "        <tr>\n",
       "            <td>6956.0</td>\n",
       "            <td>Sky Perfect JSAT, Kacific 1</td>\n",
       "        </tr>\n",
       "        <tr>\n",
       "            <td>185220.0</td>\n",
       "            <td>SpaceX</td>\n",
       "        </tr>\n",
       "        <tr>\n",
       "            <td>31010.0</td>\n",
       "            <td>SpaceX, Planet Labs</td>\n",
       "        </tr>\n",
       "        <tr>\n",
       "            <td>15440.0</td>\n",
       "            <td>SpaceX, Planet Labs, PlanetIQ</td>\n",
       "        </tr>\n",
       "        <tr>\n",
       "            <td>14932.0</td>\n",
       "            <td>SpaceX, Spaceflight Industries (BlackSky), Planet Labs</td>\n",
       "        </tr>\n",
       "        <tr>\n",
       "            <td>6500.0</td>\n",
       "            <td>Spacecom</td>\n",
       "        </tr>\n",
       "        <tr>\n",
       "            <td>4000.0</td>\n",
       "            <td>Spaceflight Industries</td>\n",
       "        </tr>\n",
       "        <tr>\n",
       "            <td>14135.0</td>\n",
       "            <td>Telesat</td>\n",
       "        </tr>\n",
       "        <tr>\n",
       "            <td>5800.0</td>\n",
       "            <td>Telkom Indonesia</td>\n",
       "        </tr>\n",
       "        <tr>\n",
       "            <td>6425.0</td>\n",
       "            <td>Thaicom</td>\n",
       "        </tr>\n",
       "        <tr>\n",
       "            <td>3600.0</td>\n",
       "            <td>Thales-Alenia/BTRC</td>\n",
       "        </tr>\n",
       "        <tr>\n",
       "            <td>4707.0</td>\n",
       "            <td>Turkmenistan National Space Agency</td>\n",
       "        </tr>\n",
       "        <tr>\n",
       "            <td>4990.0</td>\n",
       "            <td>U.S. Air Force</td>\n",
       "        </tr>\n",
       "        <tr>\n",
       "            <td>570.0</td>\n",
       "            <td>U.S. Air Force NASA NOAA</td>\n",
       "        </tr>\n",
       "        <tr>\n",
       "            <td>4311.0</td>\n",
       "            <td>U.S. Space Force</td>\n",
       "        </tr>\n",
       "        <tr>\n",
       "            <td>4400.0</td>\n",
       "            <td>USAF</td>\n",
       "        </tr>\n",
       "        <tr>\n",
       "            <td>4311.0</td>\n",
       "            <td>USSF</td>\n",
       "        </tr>\n",
       "    </tbody>\n",
       "</table>"
      ],
      "text/plain": [
       "[(None, None),\n",
       " (7759.0, 'ABS Eutelsat'),\n",
       " (8963.0, 'AsiaSat'),\n",
       " (3669.0, 'Bulsatcom'),\n",
       " (3000.0, 'CONAE'),\n",
       " (3130.0, 'CONAE, PlanetIQ, SpaceX'),\n",
       " (4200.0, 'Canadian Space Agency (CSA)'),\n",
       " (5600.0, 'EchoStar'),\n",
       " (5300.0, 'Es hailSat'),\n",
       " (2150.0, 'Hisdesat exactEarth SpaceX'),\n",
       " (6092.0, 'Hispasat  NovaWurks'),\n",
       " (6070.0, 'Inmarsat'),\n",
       " (6761.0, 'Intelsat'),\n",
       " (67200.0, 'Iridium Communications'),\n",
       " (6460.0, 'Iridium Communications GFZ ‚ NASA'),\n",
       " (3500.0, 'KT Corporation'),\n",
       " (500.0, 'MDA'),\n",
       " (12055.0, 'NASA (CCD) '),\n",
       " (12530.0, 'NASA (CCDev)'),\n",
       " (12500.0, 'NASA (CCP)'),\n",
       " (525.0, 'NASA (COTS)'),\n",
       " (0.0, 'NASA (COTS) NRO'),\n",
       " (45596.0, 'NASA (CRS)'),\n",
       " (2617.0, 'NASA (CRS), Kacific 1'),\n",
       " (12050.0, 'NASA (CTS)'),\n",
       " (362.0, 'NASA (LSP)'),\n",
       " (553.0, 'NASA (LSP) NOAA CNES'),\n",
       " (1192.0, 'NASA / NOAA / ESA / EUMETSAT'),\n",
       " (5300.0, 'NRO'),\n",
       " (475.0, 'NSPO'),\n",
       " (5000.0, 'Northrop Grumman'),\n",
       " (3350.0, 'Orbcomm'),\n",
       " (4850.0, 'PSN, SpaceIL / IAI'),\n",
       " (5500.0, 'Republic of Korea Army, Spaceflight Industries (BlackSky)'),\n",
       " (23355.0, 'SES'),\n",
       " (5200.0, 'SES EchoStar'),\n",
       " (9296.0, 'SKY Perfect JSAT Group'),\n",
       " (6956.0, 'Sky Perfect JSAT, Kacific 1'),\n",
       " (185220.0, 'SpaceX'),\n",
       " (31010.0, 'SpaceX, Planet Labs'),\n",
       " (15440.0, 'SpaceX, Planet Labs, PlanetIQ'),\n",
       " (14932.0, 'SpaceX, Spaceflight Industries (BlackSky), Planet Labs'),\n",
       " (6500.0, 'Spacecom'),\n",
       " (4000.0, 'Spaceflight Industries'),\n",
       " (14135.0, 'Telesat'),\n",
       " (5800.0, 'Telkom Indonesia'),\n",
       " (6425.0, 'Thaicom'),\n",
       " (3600.0, 'Thales-Alenia/BTRC'),\n",
       " (4707.0, 'Turkmenistan National Space Agency'),\n",
       " (4990.0, 'U.S. Air Force'),\n",
       " (570.0, 'U.S. Air Force NASA NOAA'),\n",
       " (4311.0, 'U.S. Space Force'),\n",
       " (4400.0, 'USAF'),\n",
       " (4311.0, 'USSF')]"
      ]
     },
     "execution_count": 17,
     "metadata": {},
     "output_type": "execute_result"
    }
   ],
   "source": [
    "%sql select sum(PAYLOAD_MASS__KG_) as total_payload_mass, \"Customer\" from SPACEXTBL group by \"Customer\";  --to check"
   ]
  },
  {
   "cell_type": "markdown",
   "metadata": {},
   "source": [
    "### Task 4\n",
    "\n",
    "\n",
    "\n",
    "\n",
    "##### Display average payload mass carried by booster version F9 v1.1\n"
   ]
  },
  {
   "cell_type": "code",
   "execution_count": 18,
   "metadata": {
    "tags": []
   },
   "outputs": [
    {
     "name": "stdout",
     "output_type": "stream",
     "text": [
      " * sqlite:///my_data1.db\n",
      "Done.\n"
     ]
    },
    {
     "data": {
      "text/html": [
       "<table>\n",
       "    <thead>\n",
       "        <tr>\n",
       "            <th>avg_payload_mass</th>\n",
       "        </tr>\n",
       "    </thead>\n",
       "    <tbody>\n",
       "        <tr>\n",
       "            <td>2534.6666666666665</td>\n",
       "        </tr>\n",
       "    </tbody>\n",
       "</table>"
      ],
      "text/plain": [
       "[(2534.6666666666665,)]"
      ]
     },
     "execution_count": 18,
     "metadata": {},
     "output_type": "execute_result"
    }
   ],
   "source": [
    "%sql select avg(PAYLOAD_MASS__KG_) as avg_payload_mass from SPACEXTBL where \"Booster_Version\" like 'F9 v1.1%'"
   ]
  },
  {
   "cell_type": "markdown",
   "metadata": {},
   "source": [
    "### Task 5\n",
    "\n",
    "##### List the date when the first succesful landing outcome in ground pad was acheived.\n",
    "\n",
    "\n",
    "_Hint:Use min function_ \n"
   ]
  },
  {
   "cell_type": "code",
   "execution_count": 23,
   "metadata": {
    "tags": []
   },
   "outputs": [
    {
     "name": "stdout",
     "output_type": "stream",
     "text": [
      " * sqlite:///my_data1.db\n",
      "Done.\n"
     ]
    },
    {
     "data": {
      "text/html": [
       "<table>\n",
       "    <thead>\n",
       "        <tr>\n",
       "            <th>1st successful landing (ground pad)</th>\n",
       "        </tr>\n",
       "    </thead>\n",
       "    <tbody>\n",
       "        <tr>\n",
       "            <td>20151222</td>\n",
       "        </tr>\n",
       "    </tbody>\n",
       "</table>"
      ],
      "text/plain": [
       "[('20151222',)]"
      ]
     },
     "execution_count": 23,
     "metadata": {},
     "output_type": "execute_result"
    }
   ],
   "source": [
    "%%sql\n",
    "select min(substr(Date,7,4) || substr(Date,4,2) || substr(Date,1,2)) as \"1st successful landing (ground pad)\" from SPACEXTBL \n",
    "    where \"Landing_Outcome\" = 'Success (ground pad)' "
   ]
  },
  {
   "cell_type": "code",
   "execution_count": 37,
   "metadata": {
    "tags": []
   },
   "outputs": [
    {
     "name": "stdout",
     "output_type": "stream",
     "text": [
      " * sqlite:///my_data1.db\n",
      "Done.\n"
     ]
    },
    {
     "data": {
      "text/html": [
       "<table>\n",
       "    <thead>\n",
       "        <tr>\n",
       "            <th>1st successful landing (ground pad)</th>\n",
       "        </tr>\n",
       "    </thead>\n",
       "    <tbody>\n",
       "        <tr>\n",
       "            <td>2015-12-22</td>\n",
       "        </tr>\n",
       "    </tbody>\n",
       "</table>"
      ],
      "text/plain": [
       "[('2015-12-22',)]"
      ]
     },
     "execution_count": 37,
     "metadata": {},
     "output_type": "execute_result"
    }
   ],
   "source": [
    "%%sql\n",
    "select min(substr(Date,7,4)||'-'||substr(Date,4,2)||'-'||substr(Date,1,2)) as \"1st successful landing (ground pad)\" from SPACEXTBL \n",
    "    where \"Landing_Outcome\" = 'Success (ground pad)' "
   ]
  },
  {
   "cell_type": "markdown",
   "metadata": {},
   "source": [
    "Above used substr() because sqlite does not have a date type. See https://www.sqlite.org/datatype3.html#date_and_time_datatype."
   ]
  },
  {
   "cell_type": "markdown",
   "metadata": {},
   "source": [
    "### Task 6\n",
    "\n",
    "##### List the names of the boosters which have success in drone ship and have payload mass greater than 4000 but less than 6000\n"
   ]
  },
  {
   "cell_type": "code",
   "execution_count": 25,
   "metadata": {
    "tags": []
   },
   "outputs": [
    {
     "name": "stdout",
     "output_type": "stream",
     "text": [
      " * sqlite:///my_data1.db\n",
      "Done.\n"
     ]
    },
    {
     "data": {
      "text/html": [
       "<table>\n",
       "    <thead>\n",
       "        <tr>\n",
       "            <th>Booster_Version</th>\n",
       "            <th>PAYLOAD_MASS__KG_</th>\n",
       "        </tr>\n",
       "    </thead>\n",
       "    <tbody>\n",
       "        <tr>\n",
       "            <td>F9 FT B1022</td>\n",
       "            <td>4696.0</td>\n",
       "        </tr>\n",
       "        <tr>\n",
       "            <td>F9 FT B1026</td>\n",
       "            <td>4600.0</td>\n",
       "        </tr>\n",
       "        <tr>\n",
       "            <td>F9 FT  B1021.2</td>\n",
       "            <td>5300.0</td>\n",
       "        </tr>\n",
       "        <tr>\n",
       "            <td>F9 FT  B1031.2</td>\n",
       "            <td>5200.0</td>\n",
       "        </tr>\n",
       "    </tbody>\n",
       "</table>"
      ],
      "text/plain": [
       "[('F9 FT B1022', 4696.0),\n",
       " ('F9 FT B1026', 4600.0),\n",
       " ('F9 FT  B1021.2', 5300.0),\n",
       " ('F9 FT  B1031.2', 5200.0)]"
      ]
     },
     "execution_count": 25,
     "metadata": {},
     "output_type": "execute_result"
    }
   ],
   "source": [
    "%%sql\n",
    "select \"Booster_Version\",PAYLOAD_MASS__KG_ from SPACEXTBL\n",
    "    where \"Landing_Outcome\" = 'Success (drone ship)'\n",
    "     and PAYLOAD_MASS__KG_ between 4000 and 6000"
   ]
  },
  {
   "cell_type": "markdown",
   "metadata": {},
   "source": [
    "### Task 7\n",
    "\n",
    "\n",
    "\n",
    "\n",
    "##### List the total number of successful and failure mission outcomes\n"
   ]
  },
  {
   "cell_type": "code",
   "execution_count": 29,
   "metadata": {
    "tags": []
   },
   "outputs": [
    {
     "name": "stdout",
     "output_type": "stream",
     "text": [
      " * sqlite:///my_data1.db\n",
      "Done.\n"
     ]
    },
    {
     "data": {
      "text/html": [
       "<table>\n",
       "    <thead>\n",
       "        <tr>\n",
       "            <th>Mission_Outcome</th>\n",
       "            <th>total_mission_outcome</th>\n",
       "        </tr>\n",
       "    </thead>\n",
       "    <tbody>\n",
       "        <tr>\n",
       "            <td>None</td>\n",
       "            <td>898</td>\n",
       "        </tr>\n",
       "        <tr>\n",
       "            <td>Failure (in flight)</td>\n",
       "            <td>1</td>\n",
       "        </tr>\n",
       "        <tr>\n",
       "            <td>Success</td>\n",
       "            <td>98</td>\n",
       "        </tr>\n",
       "        <tr>\n",
       "            <td>Success </td>\n",
       "            <td>1</td>\n",
       "        </tr>\n",
       "        <tr>\n",
       "            <td>Success (payload status unclear)</td>\n",
       "            <td>1</td>\n",
       "        </tr>\n",
       "    </tbody>\n",
       "</table>"
      ],
      "text/plain": [
       "[(None, 898),\n",
       " ('Failure (in flight)', 1),\n",
       " ('Success', 98),\n",
       " ('Success ', 1),\n",
       " ('Success (payload status unclear)', 1)]"
      ]
     },
     "execution_count": 29,
     "metadata": {},
     "output_type": "execute_result"
    }
   ],
   "source": [
    "%sql select \"Mission_Outcome\", count(*) as total_mission_outcome from SPACEXTBL group by \"Mission_Outcome\""
   ]
  },
  {
   "cell_type": "code",
   "execution_count": 30,
   "metadata": {
    "tags": []
   },
   "outputs": [
    {
     "name": "stdout",
     "output_type": "stream",
     "text": [
      " * sqlite:///my_data1.db\n",
      "Done.\n"
     ]
    },
    {
     "data": {
      "text/html": [
       "<table>\n",
       "    <thead>\n",
       "        <tr>\n",
       "            <th>total_success_mission</th>\n",
       "        </tr>\n",
       "    </thead>\n",
       "    <tbody>\n",
       "        <tr>\n",
       "            <td>100</td>\n",
       "        </tr>\n",
       "    </tbody>\n",
       "</table>"
      ],
      "text/plain": [
       "[(100,)]"
      ]
     },
     "execution_count": 30,
     "metadata": {},
     "output_type": "execute_result"
    }
   ],
   "source": [
    "%%sql \n",
    "select count(*) as total_success_mission from SPACEXTBL  \n",
    "    where \"Mission_Outcome\" like '%Success%'"
   ]
  },
  {
   "cell_type": "code",
   "execution_count": 31,
   "metadata": {
    "tags": []
   },
   "outputs": [
    {
     "name": "stdout",
     "output_type": "stream",
     "text": [
      " * sqlite:///my_data1.db\n",
      "Done.\n"
     ]
    },
    {
     "data": {
      "text/html": [
       "<table>\n",
       "    <thead>\n",
       "        <tr>\n",
       "            <th>total_fail_mission</th>\n",
       "        </tr>\n",
       "    </thead>\n",
       "    <tbody>\n",
       "        <tr>\n",
       "            <td>1</td>\n",
       "        </tr>\n",
       "    </tbody>\n",
       "</table>"
      ],
      "text/plain": [
       "[(1,)]"
      ]
     },
     "execution_count": 31,
     "metadata": {},
     "output_type": "execute_result"
    }
   ],
   "source": [
    "%%sql \n",
    "select count(*) as total_fail_mission from SPACEXTBL  \n",
    "    where \"Mission_Outcome\" like '%Failure%'"
   ]
  },
  {
   "cell_type": "markdown",
   "metadata": {},
   "source": [
    "### Task 8\n",
    "\n",
    "\n",
    "\n",
    "##### List the   names of the booster_versions which have carried the maximum payload mass. Use a subquery\n"
   ]
  },
  {
   "cell_type": "code",
   "execution_count": 32,
   "metadata": {
    "tags": []
   },
   "outputs": [
    {
     "name": "stdout",
     "output_type": "stream",
     "text": [
      " * sqlite:///my_data1.db\n",
      "Done.\n"
     ]
    },
    {
     "data": {
      "text/html": [
       "<table>\n",
       "    <thead>\n",
       "        <tr>\n",
       "            <th>Booster_Version</th>\n",
       "            <th>PAYLOAD_MASS__KG_</th>\n",
       "        </tr>\n",
       "    </thead>\n",
       "    <tbody>\n",
       "        <tr>\n",
       "            <td>F9 B5 B1048.4</td>\n",
       "            <td>15600.0</td>\n",
       "        </tr>\n",
       "        <tr>\n",
       "            <td>F9 B5 B1049.4</td>\n",
       "            <td>15600.0</td>\n",
       "        </tr>\n",
       "        <tr>\n",
       "            <td>F9 B5 B1051.3</td>\n",
       "            <td>15600.0</td>\n",
       "        </tr>\n",
       "        <tr>\n",
       "            <td>F9 B5 B1056.4</td>\n",
       "            <td>15600.0</td>\n",
       "        </tr>\n",
       "        <tr>\n",
       "            <td>F9 B5 B1048.5</td>\n",
       "            <td>15600.0</td>\n",
       "        </tr>\n",
       "        <tr>\n",
       "            <td>F9 B5 B1051.4</td>\n",
       "            <td>15600.0</td>\n",
       "        </tr>\n",
       "        <tr>\n",
       "            <td>F9 B5 B1049.5</td>\n",
       "            <td>15600.0</td>\n",
       "        </tr>\n",
       "        <tr>\n",
       "            <td>F9 B5 B1060.2 </td>\n",
       "            <td>15600.0</td>\n",
       "        </tr>\n",
       "        <tr>\n",
       "            <td>F9 B5 B1058.3 </td>\n",
       "            <td>15600.0</td>\n",
       "        </tr>\n",
       "        <tr>\n",
       "            <td>F9 B5 B1051.6</td>\n",
       "            <td>15600.0</td>\n",
       "        </tr>\n",
       "        <tr>\n",
       "            <td>F9 B5 B1060.3</td>\n",
       "            <td>15600.0</td>\n",
       "        </tr>\n",
       "        <tr>\n",
       "            <td>F9 B5 B1049.7 </td>\n",
       "            <td>15600.0</td>\n",
       "        </tr>\n",
       "    </tbody>\n",
       "</table>"
      ],
      "text/plain": [
       "[('F9 B5 B1048.4', 15600.0),\n",
       " ('F9 B5 B1049.4', 15600.0),\n",
       " ('F9 B5 B1051.3', 15600.0),\n",
       " ('F9 B5 B1056.4', 15600.0),\n",
       " ('F9 B5 B1048.5', 15600.0),\n",
       " ('F9 B5 B1051.4', 15600.0),\n",
       " ('F9 B5 B1049.5', 15600.0),\n",
       " ('F9 B5 B1060.2 ', 15600.0),\n",
       " ('F9 B5 B1058.3 ', 15600.0),\n",
       " ('F9 B5 B1051.6', 15600.0),\n",
       " ('F9 B5 B1060.3', 15600.0),\n",
       " ('F9 B5 B1049.7 ', 15600.0)]"
      ]
     },
     "execution_count": 32,
     "metadata": {},
     "output_type": "execute_result"
    }
   ],
   "source": [
    "%%sql\n",
    "select \"Booster_Version\", PAYLOAD_MASS__KG_ from SPACEXTBL\n",
    "    where PAYLOAD_MASS__KG_ = \n",
    "        (select max(PAYLOAD_MASS__KG_) from SPACEXTBL)"
   ]
  },
  {
   "cell_type": "markdown",
   "metadata": {},
   "source": [
    "### Task 9\n",
    "\n",
    "\n",
    "##### List the records which will display the month names, failure landing_outcomes in drone ship ,booster versions, launch_site for the months in year 2015.\n",
    "\n",
    "**Note: SQLLite does not support monthnames. So you need to use  substr(Date, 4, 2) as month to get the months and substr(Date,7,4)='2015' for year.**\n"
   ]
  },
  {
   "cell_type": "code",
   "execution_count": 34,
   "metadata": {
    "tags": []
   },
   "outputs": [
    {
     "name": "stdout",
     "output_type": "stream",
     "text": [
      " * sqlite:///my_data1.db\n",
      "Done.\n"
     ]
    },
    {
     "data": {
      "text/html": [
       "<table>\n",
       "    <thead>\n",
       "        <tr>\n",
       "            <th>month</th>\n",
       "            <th>Landing_Outcome</th>\n",
       "            <th>Booster_Version</th>\n",
       "            <th>Launch_Site</th>\n",
       "        </tr>\n",
       "    </thead>\n",
       "    <tbody>\n",
       "        <tr>\n",
       "            <td>10</td>\n",
       "            <td>Failure (drone ship)</td>\n",
       "            <td>F9 v1.1 B1012</td>\n",
       "            <td>CCAFS LC-40</td>\n",
       "        </tr>\n",
       "        <tr>\n",
       "            <td>04</td>\n",
       "            <td>Failure (drone ship)</td>\n",
       "            <td>F9 v1.1 B1015</td>\n",
       "            <td>CCAFS LC-40</td>\n",
       "        </tr>\n",
       "    </tbody>\n",
       "</table>"
      ],
      "text/plain": [
       "[('10', 'Failure (drone ship)', 'F9 v1.1 B1012', 'CCAFS LC-40'),\n",
       " ('04', 'Failure (drone ship)', 'F9 v1.1 B1015', 'CCAFS LC-40')]"
      ]
     },
     "execution_count": 34,
     "metadata": {},
     "output_type": "execute_result"
    }
   ],
   "source": [
    "%%sql\n",
    "select substr(Date, 4, 2) as month, \"Landing_Outcome\", \"Booster_Version\", \"Launch_Site\" from SPACEXTBL\n",
    "    where substr(Date,7,4)='2015'\n",
    "     and \"Landing_Outcome\" = 'Failure (drone ship)'"
   ]
  },
  {
   "cell_type": "markdown",
   "metadata": {},
   "source": [
    "### Task 10\n",
    "\n",
    "\n",
    "\n",
    "\n",
    "##### Rank the  count of  successful landing_outcomes between the date 04-06-2010 and 20-03-2017 in descending order.\n"
   ]
  },
  {
   "cell_type": "code",
   "execution_count": 41,
   "metadata": {
    "tags": []
   },
   "outputs": [
    {
     "name": "stdout",
     "output_type": "stream",
     "text": [
      " * sqlite:///my_data1.db\n",
      "Done.\n"
     ]
    },
    {
     "data": {
      "text/html": [
       "<table>\n",
       "    <thead>\n",
       "        <tr>\n",
       "            <th>Landing_Outcome</th>\n",
       "            <th>LANDING_OUTCOME_COUNT</th>\n",
       "        </tr>\n",
       "    </thead>\n",
       "    <tbody>\n",
       "        <tr>\n",
       "            <td>No attempt</td>\n",
       "            <td>10</td>\n",
       "        </tr>\n",
       "        <tr>\n",
       "            <td>Success (ground pad)</td>\n",
       "            <td>5</td>\n",
       "        </tr>\n",
       "        <tr>\n",
       "            <td>Success (drone ship)</td>\n",
       "            <td>5</td>\n",
       "        </tr>\n",
       "        <tr>\n",
       "            <td>Failure (drone ship)</td>\n",
       "            <td>5</td>\n",
       "        </tr>\n",
       "        <tr>\n",
       "            <td>Controlled (ocean)</td>\n",
       "            <td>3</td>\n",
       "        </tr>\n",
       "        <tr>\n",
       "            <td>Uncontrolled (ocean)</td>\n",
       "            <td>2</td>\n",
       "        </tr>\n",
       "        <tr>\n",
       "            <td>Precluded (drone ship)</td>\n",
       "            <td>1</td>\n",
       "        </tr>\n",
       "        <tr>\n",
       "            <td>Failure (parachute)</td>\n",
       "            <td>1</td>\n",
       "        </tr>\n",
       "    </tbody>\n",
       "</table>"
      ],
      "text/plain": [
       "[('No attempt', 10),\n",
       " ('Success (ground pad)', 5),\n",
       " ('Success (drone ship)', 5),\n",
       " ('Failure (drone ship)', 5),\n",
       " ('Controlled (ocean)', 3),\n",
       " ('Uncontrolled (ocean)', 2),\n",
       " ('Precluded (drone ship)', 1),\n",
       " ('Failure (parachute)', 1)]"
      ]
     },
     "execution_count": 41,
     "metadata": {},
     "output_type": "execute_result"
    }
   ],
   "source": [
    "%%sql\n",
    "select \"Landing_Outcome\",count(*) as LANDING_OUTCOME_COUNT\n",
    "    from SPACEXTBL \n",
    "    where  (substr(Date,7,4)||'-'||substr(Date,4,2)||'-'||substr(Date,1,2)) between '2010-06-04' and '2017-03-20' \n",
    "    group by \"Landing_Outcome\"\n",
    "    order by LANDING_OUTCOME_COUNT desc"
   ]
  },
  {
   "cell_type": "code",
   "execution_count": 42,
   "metadata": {
    "tags": []
   },
   "outputs": [
    {
     "name": "stdout",
     "output_type": "stream",
     "text": [
      " * sqlite:///my_data1.db\n",
      "Done.\n"
     ]
    },
    {
     "data": {
      "text/html": [
       "<table>\n",
       "    <thead>\n",
       "        <tr>\n",
       "            <th>Landing_Outcome</th>\n",
       "            <th>LANDING_OUTCOME_COUNT</th>\n",
       "        </tr>\n",
       "    </thead>\n",
       "    <tbody>\n",
       "        <tr>\n",
       "            <td>Success (ground pad)</td>\n",
       "            <td>5</td>\n",
       "        </tr>\n",
       "        <tr>\n",
       "            <td>Success (drone ship)</td>\n",
       "            <td>5</td>\n",
       "        </tr>\n",
       "    </tbody>\n",
       "</table>"
      ],
      "text/plain": [
       "[('Success (ground pad)', 5), ('Success (drone ship)', 5)]"
      ]
     },
     "execution_count": 42,
     "metadata": {},
     "output_type": "execute_result"
    }
   ],
   "source": [
    "%%sql\n",
    "select \"Landing_Outcome\",count(*) as LANDING_OUTCOME_COUNT\n",
    "    from SPACEXTBL \n",
    "    where  (substr(Date,7,4)||'-'||substr(Date,4,2)||'-'||substr(Date,1,2)) between '2010-06-04' and '2017-03-20'\n",
    "     and \"Landing_Outcome\" like '%Success%'\n",
    "    group by \"Landing_Outcome\"\n",
    "    order by LANDING_OUTCOME_COUNT desc"
   ]
  },
  {
   "cell_type": "code",
   "execution_count": 43,
   "metadata": {
    "tags": []
   },
   "outputs": [
    {
     "name": "stdout",
     "output_type": "stream",
     "text": [
      " * sqlite:///my_data1.db\n",
      "Done.\n"
     ]
    },
    {
     "data": {
      "text/html": [
       "<table>\n",
       "    <thead>\n",
       "        <tr>\n",
       "            <th>Landing_Outcome</th>\n",
       "            <th>Date</th>\n",
       "        </tr>\n",
       "    </thead>\n",
       "    <tbody>\n",
       "        <tr>\n",
       "            <td>Success (ground pad)</td>\n",
       "            <td>22/12/2015</td>\n",
       "        </tr>\n",
       "        <tr>\n",
       "            <td>Success (drone ship)</td>\n",
       "            <td>04/08/2016</td>\n",
       "        </tr>\n",
       "        <tr>\n",
       "            <td>Success (drone ship)</td>\n",
       "            <td>05/06/2016</td>\n",
       "        </tr>\n",
       "        <tr>\n",
       "            <td>Success (drone ship)</td>\n",
       "            <td>27/05/2016</td>\n",
       "        </tr>\n",
       "        <tr>\n",
       "            <td>Success (ground pad)</td>\n",
       "            <td>18/07/2016</td>\n",
       "        </tr>\n",
       "        <tr>\n",
       "            <td>Success (drone ship)</td>\n",
       "            <td>14/08/2016</td>\n",
       "        </tr>\n",
       "        <tr>\n",
       "            <td>Success (drone ship)</td>\n",
       "            <td>14/01/2017</td>\n",
       "        </tr>\n",
       "        <tr>\n",
       "            <td>Success (ground pad)</td>\n",
       "            <td>19/02/2017</td>\n",
       "        </tr>\n",
       "        <tr>\n",
       "            <td>Success (ground pad)</td>\n",
       "            <td>05/01/2017</td>\n",
       "        </tr>\n",
       "        <tr>\n",
       "            <td>Success (ground pad)</td>\n",
       "            <td>06/03/2017</td>\n",
       "        </tr>\n",
       "    </tbody>\n",
       "</table>"
      ],
      "text/plain": [
       "[('Success (ground pad)', '22/12/2015'),\n",
       " ('Success (drone ship)', '04/08/2016'),\n",
       " ('Success (drone ship)', '05/06/2016'),\n",
       " ('Success (drone ship)', '27/05/2016'),\n",
       " ('Success (ground pad)', '18/07/2016'),\n",
       " ('Success (drone ship)', '14/08/2016'),\n",
       " ('Success (drone ship)', '14/01/2017'),\n",
       " ('Success (ground pad)', '19/02/2017'),\n",
       " ('Success (ground pad)', '05/01/2017'),\n",
       " ('Success (ground pad)', '06/03/2017')]"
      ]
     },
     "execution_count": 43,
     "metadata": {},
     "output_type": "execute_result"
    }
   ],
   "source": [
    "%%sql\n",
    "select \"Landing_Outcome\", Date from SPACEXTBL\n",
    "    where  (substr(Date,7,4)||'-'||substr(Date,4,2)||'-'||substr(Date,1,2)) between '2010-06-04' and '2017-03-20'\n",
    "     and \"Landing_Outcome\" like '%Success%'"
   ]
  },
  {
   "cell_type": "markdown",
   "metadata": {},
   "source": [
    "### Reference Links\n",
    "\n",
    "* <a href =\"https://cf-courses-data.s3.us.cloud-object-storage.appdomain.cloud/IBMDeveloperSkillsNetwork-DB0201EN-SkillsNetwork/labs/Labs_Coursera_V5/labs/Lab%20-%20String%20Patterns%20-%20Sorting%20-%20Grouping/instructional-labs.md.html?origin=www.coursera.org\">Hands-on Lab : String Patterns, Sorting and Grouping</a>  \n",
    "\n",
    "*  <a  href=\"https://cf-courses-data.s3.us.cloud-object-storage.appdomain.cloud/IBMDeveloperSkillsNetwork-DB0201EN-SkillsNetwork/labs/Labs_Coursera_V5/labs/Lab%20-%20Built-in%20functions%20/Hands-on_Lab__Built-in_Functions.md.html?origin=www.coursera.org\">Hands-on Lab: Built-in functions</a>\n",
    "\n",
    "*  <a  href=\"https://cf-courses-data.s3.us.cloud-object-storage.appdomain.cloud/IBMDeveloperSkillsNetwork-DB0201EN-SkillsNetwork/labs/Labs_Coursera_V5/labs/Lab%20-%20Sub-queries%20and%20Nested%20SELECTs%20/instructional-labs.md.html?origin=www.coursera.org\">Hands-on Lab : Sub-queries and Nested SELECT Statements</a>\n",
    "\n",
    "*   <a href=\"https://cf-courses-data.s3.us.cloud-object-storage.appdomain.cloud/IBMDeveloperSkillsNetwork-DB0201EN-SkillsNetwork/labs/Module%205/DB0201EN-Week3-1-3-SQLmagic.ipynb\">Hands-on Tutorial: Accessing Databases with SQL magic</a>\n",
    "\n",
    "*  <a href= \"https://cf-courses-data.s3.us.cloud-object-storage.appdomain.cloud/IBMDeveloperSkillsNetwork-DB0201EN-SkillsNetwork/labs/Module%205/DB0201EN-Week3-1-4-Analyzing.ipynb\">Hands-on Lab: Analyzing a real World Data Set</a>\n",
    "\n",
    "\n"
   ]
  },
  {
   "cell_type": "markdown",
   "metadata": {},
   "source": [
    "## Author(s)\n",
    "\n",
    "<h4> Lakshmi Holla </h4>\n"
   ]
  },
  {
   "cell_type": "markdown",
   "metadata": {},
   "source": [
    "## Other Contributors\n",
    "\n",
    "<h4> Rav Ahuja </h4>\n"
   ]
  },
  {
   "cell_type": "markdown",
   "metadata": {},
   "source": [
    "## Change log\n",
    "| Date | Version | Changed by | Change Description |\n",
    "|------|--------|--------|---------|\n",
    "| 2021-07-09 | 0.2 |Lakshmi Holla | Changes made in magic sql|\n",
    "| 2021-05-20 | 0.1 |Lakshmi Holla | Created Initial Version |\n"
   ]
  },
  {
   "cell_type": "markdown",
   "metadata": {},
   "source": [
    "## <h3 align=\"center\"> © IBM Corporation 2021. All rights reserved. <h3/>\n"
   ]
  }
 ],
 "metadata": {
  "kernelspec": {
   "display_name": "Python",
   "language": "python",
   "name": "conda-env-python-py"
  },
  "language_info": {
   "codemirror_mode": {
    "name": "ipython",
    "version": 3
   },
   "file_extension": ".py",
   "mimetype": "text/x-python",
   "name": "python",
   "nbconvert_exporter": "python",
   "pygments_lexer": "ipython3",
   "version": "3.7.12"
  }
 },
 "nbformat": 4,
 "nbformat_minor": 4
}
